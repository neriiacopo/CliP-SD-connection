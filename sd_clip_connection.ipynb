{
 "cells": [
  {
   "cell_type": "code",
   "execution_count": 1,
   "metadata": {},
   "outputs": [],
   "source": [
    "import json\n",
    "import requests\n",
    "import io\n",
    "import base64\n",
    "import numpy as np\n",
    "from PIL import Image, PngImagePlugin"
   ]
  },
  {
   "cell_type": "code",
   "execution_count": 5,
   "metadata": {},
   "outputs": [],
   "source": [
    "url_sd = \"https://b7940f3a-82a6-4fad.gradio.live\""
   ]
  },
  {
   "cell_type": "code",
   "execution_count": 6,
   "metadata": {},
   "outputs": [
    {
     "name": "stdout",
     "output_type": "stream",
     "text": [
      "directory already existing\n"
     ]
    }
   ],
   "source": [
    "# Load initial image -- check file extension\n",
    "img = \"dot.png\"\n",
    "out_dir = \"outputs2\"\n",
    "\n",
    "# SD settings\n",
    "query = {\n",
    "    \"steps\": 25,\n",
    "    \"sampler_index\": \"Euler\", #Euler a\n",
    "    \"width\": 512,\n",
    "    \"height\": 512,\n",
    "    \"seed\": -1,\n",
    "    \"cfg_scale\": 5\n",
    "    }\n",
    "\n",
    "# Create folder\n",
    "try:\n",
    "    os.mkdir(os.path.join(out_dir))\n",
    "except:\n",
    "    print(\"directory already existing\")\n",
    "\n",
    "# Interrogate first image\n",
    "with open(img, \"rb\") as image_file:\n",
    "    img_string = \"data:image/png;base64,\"+str(base64.b64encode(image_file.read()).decode('utf-8'))\n",
    "\n",
    "# Save first iter\n",
    "filepath = out_dir+'/iter_0000.png'\n",
    "image = Image.open(img)\n",
    "image.save(filepath)\n"
   ]
  },
  {
   "cell_type": "code",
   "execution_count": null,
   "metadata": {},
   "outputs": [],
   "source": [
    "prompts = [\"a dog inside of a house\"]\n",
    "\n",
    "\n",
    "# Ask SD ########################################################\n",
    "query[\"prompt\"] = prompt\n",
    "\n",
    "sd_response = requests.post(url=f'{url_sd}/sdapi/v1/txt2img', json=query).json()\n",
    "\n",
    "for i in sd_response['images']:\n",
    "    image = Image.open(io.BytesIO(base64.b64decode(i.split(\",\",1)[0])))\n",
    "\n",
    "    png_payload = {\n",
    "        \"image\": \"data:image/png;base64,\" + i\n",
    "    }\n",
    "\n",
    "    response2 = requests.post(url=f'{url_sd}/sdapi/v1/png-info', json=png_payload)\n",
    "    pnginfo = PngImagePlugin.PngInfo()\n",
    "    pnginfo.add_text(\"parameters\", response2.json().get(\"info\"))\n",
    "\n",
    "\n",
    "    filepath = out_dir+'/iter_'+ '{:0>4}'.format(j) +'.png'\n",
    "    image.save(filepath, pnginfo=pnginfo)\n",
    "\n",
    "    # Override settings for next loop\n",
    "    img_string = \"data:image/png;base64,\" + i\n",
    "\n"
   ]
  }
 ],
 "metadata": {
  "kernelspec": {
   "display_name": "env_sd",
   "language": "python",
   "name": "python3"
  },
  "language_info": {
   "codemirror_mode": {
    "name": "ipython",
    "version": 3
   },
   "file_extension": ".py",
   "mimetype": "text/x-python",
   "name": "python",
   "nbconvert_exporter": "python",
   "pygments_lexer": "ipython3",
   "version": "3.8.0"
  },
  "orig_nbformat": 4,
  "vscode": {
   "interpreter": {
    "hash": "b800e1a790a57fb51e600b9ccb28dd2f00461a1259f5cece5679d148159364af"
   }
  }
 },
 "nbformat": 4,
 "nbformat_minor": 2
}
