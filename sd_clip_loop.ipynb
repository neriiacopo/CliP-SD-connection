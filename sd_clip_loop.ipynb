{
 "cells": [
  {
   "cell_type": "code",
   "execution_count": 1,
   "metadata": {},
   "outputs": [],
   "source": [
    "import json\n",
    "import requests\n",
    "import io\n",
    "import base64\n",
    "import numpy as np\n",
    "from PIL import Image, PngImagePlugin\n"
   ]
  },
  {
   "cell_type": "code",
   "execution_count": 5,
   "metadata": {},
   "outputs": [],
   "source": [
    "url_clip = \"https://c1fec062ad76545851.gradio.live\"\n",
    "url_sd = \"https://b7940f3a-82a6-4fad.gradio.live\""
   ]
  },
  {
   "cell_type": "code",
   "execution_count": 6,
   "metadata": {},
   "outputs": [
    {
     "name": "stdout",
     "output_type": "stream",
     "text": [
      "directory already existing\n"
     ]
    }
   ],
   "source": [
    "# Load initial image -- check file extension\n",
    "img = \"dot.png\"\n",
    "out_dir = \"outputs2\"\n",
    "\n",
    "# SD settings\n",
    "query = {\n",
    "    \"steps\": 25,\n",
    "    \"sampler_index\": \"Euler\", #Euler a\n",
    "    \"width\": 512,\n",
    "    \"height\": 512,\n",
    "    \"seed\": -1,\n",
    "    \"cfg_scale\": 5\n",
    "    }\n",
    "\n",
    "# Create folder\n",
    "try:\n",
    "    os.mkdir(os.path.join(out_dir))\n",
    "except:\n",
    "    print(\"directory already existing\")\n",
    "\n",
    "# Interrogate first image\n",
    "with open(img, \"rb\") as image_file:\n",
    "    img_string = \"data:image/png;base64,\"+str(base64.b64encode(image_file.read()).decode('utf-8'))\n",
    "\n",
    "# Save first iter\n",
    "filepath = out_dir+'/iter_0000.png'\n",
    "image = Image.open(img)\n",
    "image.save(filepath)\n"
   ]
  },
  {
   "cell_type": "code",
   "execution_count": 8,
   "metadata": {},
   "outputs": [
    {
     "name": "stdout",
     "output_type": "stream",
     "text": [
      "{'error': 'This app has no endpoint /api/predict/.'}\n"
     ]
    },
    {
     "ename": "KeyError",
     "evalue": "'data'",
     "output_type": "error",
     "traceback": [
      "\u001b[1;31m---------------------------------------------------------------------------\u001b[0m",
      "\u001b[1;31mKeyError\u001b[0m                                  Traceback (most recent call last)",
      "Cell \u001b[1;32mIn[8], line 16\u001b[0m\n\u001b[0;32m     14\u001b[0m clip_response \u001b[39m=\u001b[39m requests\u001b[39m.\u001b[39mpost(url\u001b[39m=\u001b[39m\u001b[39mf\u001b[39m\u001b[39m'\u001b[39m\u001b[39m{\u001b[39;00murl_clip\u001b[39m}\u001b[39;00m\u001b[39m/run/predict\u001b[39m\u001b[39m'\u001b[39m, json\u001b[39m=\u001b[39mreq_clip)\u001b[39m.\u001b[39mjson()\n\u001b[0;32m     15\u001b[0m \u001b[39mprint\u001b[39m(clip_response)\n\u001b[1;32m---> 16\u001b[0m prompt \u001b[39m=\u001b[39m clip_response[\u001b[39m\"\u001b[39;49m\u001b[39mdata\u001b[39;49m\u001b[39m\"\u001b[39;49m][\u001b[39m0\u001b[39m]\n\u001b[0;32m     17\u001b[0m \u001b[39mprint\u001b[39m(prompt)\n\u001b[0;32m     19\u001b[0m \u001b[39m# Store prompt\u001b[39;00m\n",
      "\u001b[1;31mKeyError\u001b[0m: 'data'"
     ]
    }
   ],
   "source": [
    "prompts = []\n",
    "\n",
    "# Loop between sd and clip\n",
    "for j in range(1,20):\n",
    "\n",
    "    # Ask Clip #####################################################\n",
    "    req_clip = {\n",
    "        \"data\": [\n",
    "            img_string,\n",
    "            \"fast\",\n",
    "            16,]\n",
    "            }\n",
    "\n",
    "    clip_response = requests.post(url=f'{url_clip}/run/predict', json=req_clip).json()\n",
    "    print(clip_response)\n",
    "    prompt = clip_response[\"data\"][0]\n",
    "    print(prompt)\n",
    "\n",
    "    # Store prompt\n",
    "    prompts.append(prompt)\n",
    "\n",
    "    # Ask SD ########################################################\n",
    "    # query[\"prompt\"] = prompt.split(\",\")[0] # only subject\n",
    "    query[\"prompt\"] = prompt\n",
    "\n",
    "    sd_response = requests.post(url=f'{url_sd}/sdapi/v1/txt2img', json=query).json()\n",
    "\n",
    "    for i in sd_response['images']:\n",
    "        image = Image.open(io.BytesIO(base64.b64decode(i.split(\",\",1)[0])))\n",
    "\n",
    "        png_payload = {\n",
    "            \"image\": \"data:image/png;base64,\" + i\n",
    "        }\n",
    "\n",
    "        response2 = requests.post(url=f'{url_sd}/sdapi/v1/png-info', json=png_payload)\n",
    "        pnginfo = PngImagePlugin.PngInfo()\n",
    "        pnginfo.add_text(\"parameters\", response2.json().get(\"info\"))\n",
    "\n",
    "\n",
    "        filepath = out_dir+'/iter_'+ '{:0>4}'.format(j) +'.png'\n",
    "        image.save(filepath, pnginfo=pnginfo)\n",
    "\n",
    "        # Override settings for next loop\n",
    "        img_string = \"data:image/png;base64,\" + i\n",
    "\n",
    "# Store results of prompts\n",
    "np.savetxt(out_dir+\"/prompts.csv\", \n",
    "           prompts,\n",
    "           delimiter =\"; \", \n",
    "           fmt ='% s')"
   ]
  },
  {
   "cell_type": "code",
   "execution_count": 33,
   "metadata": {},
   "outputs": [],
   "source": [
    "# Store results of prompts in case of stop\n",
    "np.savetxt(out_dir+\"/prompts.csv\", \n",
    "           prompts,\n",
    "           delimiter =\"; \", \n",
    "           fmt ='% s')"
   ]
  },
  {
   "cell_type": "code",
   "execution_count": 12,
   "metadata": {},
   "outputs": [
    {
     "name": "stdout",
     "output_type": "stream",
     "text": [
      "asttokens==2.2.1\n",
      "backcall==0.2.0\n",
      "-e git+https://github.com/pharmapsychotic/BLIP.git@5b58f59454039295a87c6628b1392e6b8752e911#egg=blip\n",
      "certifi==2022.12.7\n",
      "charset-normalizer==2.1.1\n",
      "click==8.1.3\n",
      "clip-interrogator==0.3.2\n",
      "colorama==0.4.6\n",
      "comm==0.1.2\n",
      "contourpy==1.0.6\n",
      "cycler==0.11.0\n",
      "debugpy==1.6.4\n",
      "decorator==5.1.1\n",
      "entrypoints==0.4\n",
      "executing==1.2.0\n",
      "fairscale==0.4.4\n",
      "filelock==3.8.2\n",
      "fonttools==4.38.0\n",
      "ftfy==6.1.1\n",
      "huggingface-hub==0.11.1\n",
      "idna==3.4\n",
      "ipykernel==6.19.2\n",
      "ipython==8.7.0\n",
      "jedi==0.18.2\n",
      "joblib==1.2.0\n",
      "jupyter-client==7.4.8\n",
      "jupyter-core==5.1.0\n",
      "kiwisolver==1.4.4\n",
      "matplotlib==3.6.2\n",
      "matplotlib-inline==0.1.6\n",
      "nest-asyncio==1.5.6\n",
      "numpy==1.23.5\n",
      "open-clip-torch==2.8.2\n",
      "packaging==22.0\n",
      "parso==0.8.3\n",
      "pickleshare==0.7.5\n",
      "Pillow==9.3.0\n",
      "platformdirs==2.6.0\n",
      "prompt-toolkit==3.0.36\n",
      "protobuf==3.20.3\n",
      "psutil==5.9.4\n",
      "pure-eval==0.2.2\n",
      "pycocoevalcap==1.2\n",
      "pycocotools==2.0.6\n",
      "Pygments==2.13.0\n",
      "pyparsing==3.0.9\n",
      "python-dateutil==2.8.2\n",
      "pywin32==305\n",
      "PyYAML==6.0\n",
      "pyzmq==24.0.1\n",
      "regex==2022.10.31\n",
      "requests==2.28.1\n",
      "sacremoses==0.0.53\n",
      "sentencepiece==0.1.97\n",
      "six==1.16.0\n",
      "stack-data==0.6.2\n",
      "timm==0.4.12\n",
      "tokenizers==0.10.3\n",
      "torch==1.13.1+cu117\n",
      "torchaudio==0.13.1+cu117\n",
      "torchvision==0.14.1+cu117\n",
      "tornado==6.2\n",
      "tqdm==4.64.1\n",
      "traitlets==5.7.1\n",
      "transformers==4.15.0\n",
      "typing-extensions==4.4.0\n",
      "urllib3==1.26.13\n",
      "wcwidth==0.2.5\n",
      "Note: you may need to restart the kernel to use updated packages.\n"
     ]
    }
   ],
   "source": [
    "pip freeze"
   ]
  }
 ],
 "metadata": {
  "kernelspec": {
   "display_name": "env_sd",
   "language": "python",
   "name": "python3"
  },
  "language_info": {
   "codemirror_mode": {
    "name": "ipython",
    "version": 3
   },
   "file_extension": ".py",
   "mimetype": "text/x-python",
   "name": "python",
   "nbconvert_exporter": "python",
   "pygments_lexer": "ipython3",
   "version": "3.8.0"
  },
  "orig_nbformat": 4,
  "vscode": {
   "interpreter": {
    "hash": "b800e1a790a57fb51e600b9ccb28dd2f00461a1259f5cece5679d148159364af"
   }
  }
 },
 "nbformat": 4,
 "nbformat_minor": 2
}
